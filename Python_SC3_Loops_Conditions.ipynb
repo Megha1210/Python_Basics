{
 "cells": [
  {
   "cell_type": "code",
   "execution_count": 4,
   "metadata": {},
   "outputs": [
    {
     "name": "stdout",
     "output_type": "stream",
     "text": [
      "1\n",
      "2\n",
      "3\n",
      "4\n",
      "5\n",
      "6\n",
      "7\n",
      "8\n",
      "9\n",
      "[0, 1, 2, 3, 4, 5, 6, 7, 8, 9]\n",
      "1\n",
      "4\n",
      "7\n",
      "10\n",
      "13\n"
     ]
    }
   ],
   "source": [
    "#While loop   \n",
    "a=1\n",
    "while a<=9:\n",
    "    print(a)\n",
    "    a+=1\n",
    "\n",
    "#Use of range() function\n",
    "print(list(range(10)))\n",
    "\n",
    "for i in range(1,15,3):    #increament of 3 specified with range\n",
    "    print(i)"
   ]
  },
  {
   "cell_type": "code",
   "execution_count": 7,
   "metadata": {},
   "outputs": [
    {
     "name": "stdout",
     "output_type": "stream",
     "text": [
      "1.2\n",
      "3\n",
      "number greater than 50\n",
      "r\n",
      "o\n",
      "s\n",
      "e\n",
      "thorn\n"
     ]
    }
   ],
   "source": [
    "#Conditional blocks with mutable objects\n",
    "\n",
    "lst1=[1.2,3,56, \"rose\",\"thorn\"]\n",
    "\n",
    "for i in lst1:\n",
    "    if i==56:\n",
    "        print(\"number greater than 50\")\n",
    "    elif i==\"rose\":\n",
    "        for j in \"rose\":\n",
    "            print(j)\n",
    "    else:\n",
    "        print(i)\n",
    "        i+=i\n",
    "    "
   ]
  },
  {
   "cell_type": "code",
   "execution_count": 26,
   "metadata": {},
   "outputs": [
    {
     "name": "stdout",
     "output_type": "stream",
     "text": [
      "1.2\n",
      "3\n",
      "The index of 56 is 2\n"
     ]
    }
   ],
   "source": [
    "lst1=[1.2,3,56, \"rose\",\"thorn\"]\n",
    "\n",
    "for i in lst1:\n",
    "    if i == 56:\n",
    "        print(\"The index of 56 is\",lst1.index(56))\n",
    "        break\n",
    "    else:\n",
    "        print(i)\n",
    "     "
   ]
  },
  {
   "cell_type": "code",
   "execution_count": 28,
   "metadata": {},
   "outputs": [
    {
     "name": "stdout",
     "output_type": "stream",
     "text": [
      "0 1\n",
      "1 2.0\n",
      "2 three\n",
      "3 4\n"
     ]
    }
   ],
   "source": [
    "#printing index of list item \n",
    "\n",
    "alist = [1, 2.0, \"three\", 4]       \n",
    "for n,a in enumerate(alist):\n",
    "    print(n, a)"
   ]
  },
  {
   "cell_type": "code",
   "execution_count": 38,
   "metadata": {},
   "outputs": [
    {
     "name": "stdout",
     "output_type": "stream",
     "text": [
      "key=1,value=rose\n",
      "key=2,value=lily\n",
      "key=3,value=delia\n",
      "1 rose\n",
      "2 lily\n",
      "3 delia\n",
      "0 1\n",
      "1 2\n",
      "2 3\n"
     ]
    }
   ],
   "source": [
    "#loop with dictionary\n",
    "dct={1:'rose',2:'lily',3:'delia'}\n",
    "for i,j in dct.items():\n",
    "   # print(i,j)\n",
    "    print(\"key={},value={}\".format(i,j))\n",
    "    \n",
    "for i in sorted(dct):\n",
    "    print(i,dct[i])\n",
    "    \n",
    "for i,j in enumerate(dct):   #not useful for dictionary as dictionary is unordered\n",
    "    print(i,j)"
   ]
  },
  {
   "cell_type": "code",
   "execution_count": 42,
   "metadata": {},
   "outputs": [
    {
     "name": "stdout",
     "output_type": "stream",
     "text": [
      "The \n",
      "\n",
      "rose \n",
      "\n",
      "is \n",
      "\n",
      "pink \n",
      "\n"
     ]
    }
   ],
   "source": [
    "s=\"The rose is pink\"\n",
    "s.split()\n",
    "\n",
    "for i in s.split():\n",
    "    print(i,\"\\n\")"
   ]
  }
 ],
 "metadata": {
  "kernelspec": {
   "display_name": "Python 3",
   "language": "python",
   "name": "python3"
  },
  "language_info": {
   "codemirror_mode": {
    "name": "ipython",
    "version": 3
   },
   "file_extension": ".py",
   "mimetype": "text/x-python",
   "name": "python",
   "nbconvert_exporter": "python",
   "pygments_lexer": "ipython3",
   "version": "3.6.9"
  }
 },
 "nbformat": 4,
 "nbformat_minor": 2
}
