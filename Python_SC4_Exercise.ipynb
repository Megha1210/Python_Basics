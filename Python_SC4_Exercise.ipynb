{
 "cells": [
  {
   "cell_type": "markdown",
   "metadata": {},
   "source": [
    "Source:https://github.com/sbu-python-class/python-science/blob/master/lectures/01-python/w2-python-exercises.ipynb\n",
    "\n",
    "\n",
    "\n",
    "Q 1\n",
    "When talking about floating point, we discussed machine epsilon, $\\epsilon$—this is the smallest number that when added to 1 is still different from 1.\n",
    "\n",
    "We'll compute $\\epsilon$ here:\n",
    "\n",
    "Pick an initial guess for $\\epsilon$ of eps = 1.\n",
    "\n",
    "Create a loop that checks whether 1 + eps is different from 1\n",
    "\n",
    "Each loop iteration, cut the value of eps in half\n",
    "\n",
    "What value of $\\epsilon$ do you find?"
   ]
  },
  {
   "cell_type": "code",
   "execution_count": 14,
   "metadata": {},
   "outputs": [
    {
     "name": "stdout",
     "output_type": "stream",
     "text": [
      "0.05\n",
      "0.025\n",
      "0.0125\n",
      "0.00625\n",
      "0.003125\n",
      "0.0015625\n",
      "0.00078125\n",
      "0.000390625\n",
      "0.0001953125\n",
      "9.765625e-05\n",
      "4.8828125e-05\n",
      "2.44140625e-05\n",
      "1.220703125e-05\n",
      "6.103515625e-06\n",
      "3.0517578125e-06\n",
      "1.52587890625e-06\n",
      "7.62939453125e-07\n",
      "3.814697265625e-07\n",
      "1.9073486328125e-07\n",
      "9.5367431640625e-08\n",
      "4.76837158203125e-08\n",
      "2.384185791015625e-08\n",
      "1.1920928955078126e-08\n",
      "5.960464477539063e-09\n",
      "2.9802322387695314e-09\n",
      "1.4901161193847657e-09\n",
      "7.450580596923829e-10\n",
      "3.7252902984619143e-10\n",
      "1.8626451492309571e-10\n",
      "9.313225746154786e-11\n",
      "4.656612873077393e-11\n",
      "2.3283064365386964e-11\n",
      "1.1641532182693482e-11\n",
      "5.820766091346741e-12\n",
      "2.9103830456733705e-12\n",
      "1.4551915228366853e-12\n",
      "7.275957614183426e-13\n",
      "3.637978807091713e-13\n",
      "1.8189894035458566e-13\n",
      "9.094947017729283e-14\n",
      "4.5474735088646414e-14\n",
      "2.2737367544323207e-14\n",
      "1.1368683772161604e-14\n",
      "5.684341886080802e-15\n",
      "2.842170943040401e-15\n",
      "1.4210854715202005e-15\n",
      "7.105427357601002e-16\n",
      "3.552713678800501e-16\n",
      "1.7763568394002506e-16\n",
      "8.881784197001253e-17\n"
     ]
    },
    {
     "data": {
      "text/plain": [
       "8.881784197001253e-17"
      ]
     },
     "execution_count": 14,
     "metadata": {},
     "output_type": "execute_result"
    }
   ],
   "source": [
    "a=1\n",
    "eps=0.1\n",
    "add= a+eps\n",
    "while add!=a:\n",
    "    eps=eps/2\n",
    "    add= a+eps\n",
    "    print(eps)\n",
    "eps"
   ]
  },
  {
   "cell_type": "code",
   "execution_count": 15,
   "metadata": {},
   "outputs": [
    {
     "name": "stdout",
     "output_type": "stream",
     "text": [
      "sys.float_info(max=1.7976931348623157e+308, max_exp=1024, max_10_exp=308, min=2.2250738585072014e-308, min_exp=-1021, min_10_exp=-307, dig=15, mant_dig=53, epsilon=2.220446049250313e-16, radix=2, rounds=1)\n"
     ]
    }
   ],
   "source": [
    "import sys\n",
    "print(sys.float_info)"
   ]
  },
  {
   "cell_type": "markdown",
   "metadata": {},
   "source": [
    "\n",
    "Q 2\n",
    "To iterate over the tuples, where the i-th tuple contains the i-th elements of certain sequences, we can use zip(*sequences) function.\n",
    "\n",
    "We will iterate over two lists, names and age, and print out the resulting tuples.\n",
    "\n",
    "Start by initializing lists names = [\"Mary\", \"John\", \"Sarah\"] and age = [21, 56, 98].\n",
    "\n",
    "Iterate over the tuples containing a name and an age, the zip(list1, list2) function might be useful here.\n",
    "\n",
    "Print out formatted strings of the type \"NAME is AGE years old\"."
   ]
  },
  {
   "cell_type": "code",
   "execution_count": 34,
   "metadata": {},
   "outputs": [
    {
     "name": "stdout",
     "output_type": "stream",
     "text": [
      "Mary is 21 years old.\n",
      "John is 56 years old.\n",
      "Sarah is 98 years old.\n"
     ]
    }
   ],
   "source": [
    "names = [\"Mary\", \"John\", \"Sarah\"]\n",
    "age = [21, 56, 98]\n",
    "\n",
    "tpl=zip(names,age)\n",
    "#print(type(tpl))\n",
    "\n",
    "tpl2=list(tpl)\n",
    "\n",
    "for i in tpl2:\n",
    "    print(i[0],\"is\",i[1],\"years old.\")"
   ]
  },
  {
   "cell_type": "markdown",
   "metadata": {},
   "source": [
    "Q 3\n",
    "The function enumerate(sequence) returns tuples containing indicies of objects in the sequence, and the objects.\n",
    "\n",
    "The random module provides tools for working with the random numbers. In particular, random.randint(start, end) generates a random number not smaller than start, and not bigger than end.\n",
    "\n",
    "Generate a list of 10 random numbers from 0 to 9.\n",
    "\n",
    "Using the enumerate(random_list) function, iterate over the tuples of random numbers and their indicies, and print out \"Match: NUMBER and INDEX\" if the random number and its index in the list match"
   ]
  },
  {
   "cell_type": "code",
   "execution_count": 76,
   "metadata": {},
   "outputs": [
    {
     "name": "stdout",
     "output_type": "stream",
     "text": [
      "Match: Index 0  and number  0\n"
     ]
    }
   ],
   "source": [
    "import random\n",
    "\n",
    "b=[]\n",
    "\n",
    "for i in range(0,10):\n",
    "    a=random.randint(0,9)\n",
    "    b.append(a)\n",
    "for i,j in enumerate(b):\n",
    "    if i==j:\n",
    "        print(\"Match: Index\", i,\" and number \",j)"
   ]
  },
  {
   "cell_type": "markdown",
   "metadata": {},
   "source": [
    "Q 4\n",
    "The Fibbonacci sequence is a numerical sequence where each number is the sum of the 2 preceding numbers, e.g., 1, 1, 2, 3, 5, 8, 13, ...\n",
    "\n",
    "Create a list where the elements are the terms in the Fibbonacci sequence:\n",
    "\n",
    "Start with the list fib = [1, 1]\n",
    "\n",
    "Loop 25 times, compute the next term as the sum of the previous 2 terms and append to the list\n",
    "\n",
    "After the loop is complete, print out the terms\n",
    "\n",
    "You may find it useful to use fib[-1] and fib[-2] to access the last to items in the list"
   ]
  },
  {
   "cell_type": "code",
   "execution_count": 88,
   "metadata": {},
   "outputs": [
    {
     "name": "stdout",
     "output_type": "stream",
     "text": [
      "[1, 1, 2, 3, 5, 8, 13, 21, 34, 55, 89, 144, 233, 377, 610, 987, 1597, 2584, 4181, 6765, 10946, 17711, 28657, 46368, 75025, 121393, 196418]\n"
     ]
    }
   ],
   "source": [
    "fib=[1,1]\n",
    "for i in range(0,25):\n",
    "    new_elt=fib[-1]+fib[-2]\n",
    "    fib.append(new_elt)\n",
    "    #print(fib[-1]/fib[-2])\n",
    "#print(len(fib))\n",
    "print(fib)"
   ]
  },
  {
   "cell_type": "markdown",
   "metadata": {},
   "source": [
    "\n",
    "Q 5\n",
    "We can use the input() function to ask for input from the prompt (note: in python 2 the function was called raw_input()).\n",
    "\n",
    "Create an empty list and use a while loop to ask the user for input and append their input to the list. Keep looping until 10 items are added to the list"
   ]
  },
  {
   "cell_type": "code",
   "execution_count": 91,
   "metadata": {},
   "outputs": [
    {
     "name": "stdout",
     "output_type": "stream",
     "text": [
      "add 10 numbers to the list4\n",
      "add 10 numbers to the list5\n",
      "add 10 numbers to the list7+8\n",
      "add 10 numbers to the list5\n",
      "add 10 numbers to the list4\n",
      "add 10 numbers to the list4\n",
      "add 10 numbers to the list4\n",
      "add 10 numbers to the list4\n",
      "add 10 numbers to the list\n",
      "add 10 numbers to the list\n",
      "List complete ['4', '5', '7+8', '5', '4', '4', '4', '4', '', '']\n"
     ]
    }
   ],
   "source": [
    "#Add error handling\n",
    "lst=[]\n",
    "\n",
    "for i in range(0,10):\n",
    "    a=input(\"add 10 numbers to the list\")\n",
    "    lst.append(a)\n",
    "print(\"List complete\",lst)"
   ]
  },
  {
   "cell_type": "markdown",
   "metadata": {},
   "source": [
    "Q 6\n",
    "Here is a list of book titles (from http://thegreatestbooks.org). Loop through the list and capitalize each word in each title. You might find the .capitalize() method that works on strings useful."
   ]
  },
  {
   "cell_type": "code",
   "execution_count": 17,
   "metadata": {},
   "outputs": [
    {
     "name": "stdout",
     "output_type": "stream",
     "text": [
      "Don Quixote\n",
      "In Search Of Lost Time\n",
      "Ulysses\n",
      "The Odyssey\n",
      "War And Piece\n",
      "Moby Dick\n",
      "The Divine Comedy\n",
      "Hamlet\n",
      "The Adventures Of Huckleberry Finn\n",
      "The Great Gatsby\n"
     ]
    }
   ],
   "source": [
    "titles = [\"don quixote\", \n",
    "          \"in search of lost time\", \n",
    "          \"ulysses\", \n",
    "          \"the odyssey\", \n",
    "          \"war and piece\", \n",
    "          \"moby dick\", \n",
    "          \"the divine comedy\", \n",
    "          \"hamlet\", \n",
    "          \"the adventures of huckleberry finn\", \n",
    "          \"the great gatsby\"]\n",
    "for i, j in enumerate(titles):\n",
    "    print(j.title())\n",
    "\n",
    "    "
   ]
  },
  {
   "cell_type": "markdown",
   "metadata": {},
   "source": [
    "Q 7\n",
    "Here's some text (the Gettysburg Address). Our goal is to count how many times each word repeats. We'll do a brute force method first, and then we'll look a ways to do it more efficiently (and compactly).\n",
    "\n",
    "\n",
    "\n"
   ]
  },
  {
   "cell_type": "code",
   "execution_count": 35,
   "metadata": {},
   "outputs": [],
   "source": [
    "gettysburg_address = \"\"\"Four score and seven years ago our fathers brought \n",
    "forth on this continent, \n",
    "a new nation, conceived in Liberty, and dedicated to the proposition that \n",
    "all men are created equal.\n",
    "\n",
    "Now we are engaged in a great civil war, testing whether that nation, or \n",
    "any nation so conceived and so dedicated, can long endure. We are met on\n",
    "a great battle-field of that war. We have come to dedicate a portion of\n",
    "that field, as a final resting place for those who here gave their lives\n",
    "that that nation might live. It is altogether fitting and proper that we\n",
    "should do this.\n",
    "\n",
    "But, in a larger sense, we can not dedicate -- we can not consecrate -- we\n",
    "can not hallow -- this ground. The brave men, living and dead, who struggled\n",
    "here, have consecrated it, far above our poor power to add or detract.  The\n",
    "world will little note, nor long remember what we say here, but it can never\n",
    "forget what they did here. It is for us the living, rather, to be dedicated\n",
    "here to the unfinished work which they who fought here have thus far so nobly\n",
    "advanced. It is rather for us to be here dedicated to the great task remaining\n",
    "before us -- that from these honored dead we take increased devotion to that\n",
    "cause for which they gave the last full measure of devotion -- that we here\n",
    "highly resolve that these dead shall not have died in vain -- that this\n",
    "nation, under God, shall have a new birth of freedom -- and that government\n",
    "of the people, by the people, for the people, shall not perish from the earth.\"\"\"\n",
    "\n",
    "\n"
   ]
  },
  {
   "cell_type": "markdown",
   "metadata": {},
   "source": [
    "your task¶\n",
    "Create a dictionary that uses the unique words as keys and has as a value the number of times that word appears.\n",
    "\n",
    "Write a loop over the words in the string (using our split version) and do the following:\n",
    "\n",
    "remove any punctuation\n",
    "convert to lowercase\n",
    "test if the word is already a key in the dictionary (using the in operator)\n",
    "if the key exists, increment the word count for that key\n",
    "otherwise, add it to the dictionary with the appropiate count of 1.\n",
    "At the end, print out the words and a count of how many times they appear"
   ]
  },
  {
   "cell_type": "code",
   "execution_count": 56,
   "metadata": {},
   "outputs": [
    {
     "data": {
      "text/plain": [
       "{'': 7,\n",
       " 'a': 7,\n",
       " 'above': 1,\n",
       " 'add': 1,\n",
       " 'advanced': 1,\n",
       " 'ago': 1,\n",
       " 'all': 1,\n",
       " 'altogether': 1,\n",
       " 'and': 6,\n",
       " 'any': 1,\n",
       " 'are': 3,\n",
       " 'as': 1,\n",
       " 'battle-field': 1,\n",
       " 'be': 2,\n",
       " 'before': 1,\n",
       " 'birth': 1,\n",
       " 'brave': 1,\n",
       " 'brought': 1,\n",
       " 'but': 2,\n",
       " 'by': 1,\n",
       " 'can': 5,\n",
       " 'cause': 1,\n",
       " 'civil': 1,\n",
       " 'come': 1,\n",
       " 'conceived': 2,\n",
       " 'consecrate': 1,\n",
       " 'consecrated': 1,\n",
       " 'continent': 1,\n",
       " 'created': 1,\n",
       " 'dead': 3,\n",
       " 'dedicate': 2,\n",
       " 'dedicated': 4,\n",
       " 'detract': 1,\n",
       " 'devotion': 2,\n",
       " 'did': 1,\n",
       " 'died': 1,\n",
       " 'do': 1,\n",
       " 'earth': 1,\n",
       " 'endure': 1,\n",
       " 'engaged': 1,\n",
       " 'equal': 1,\n",
       " 'far': 2,\n",
       " 'fathers': 1,\n",
       " 'field': 1,\n",
       " 'final': 1,\n",
       " 'fitting': 1,\n",
       " 'for': 5,\n",
       " 'forget': 1,\n",
       " 'forth': 1,\n",
       " 'fought': 1,\n",
       " 'four': 1,\n",
       " 'freedom': 1,\n",
       " 'from': 2,\n",
       " 'full': 1,\n",
       " 'gave': 2,\n",
       " 'god': 1,\n",
       " 'government': 1,\n",
       " 'great': 3,\n",
       " 'ground': 1,\n",
       " 'hallow': 1,\n",
       " 'have': 5,\n",
       " 'here': 8,\n",
       " 'highly': 1,\n",
       " 'honored': 1,\n",
       " 'in': 4,\n",
       " 'increased': 1,\n",
       " 'is': 3,\n",
       " 'it': 5,\n",
       " 'larger': 1,\n",
       " 'last': 1,\n",
       " 'liberty': 1,\n",
       " 'little': 1,\n",
       " 'live': 1,\n",
       " 'lives': 1,\n",
       " 'living': 2,\n",
       " 'long': 2,\n",
       " 'measure': 1,\n",
       " 'men': 2,\n",
       " 'met': 1,\n",
       " 'might': 1,\n",
       " 'nation': 5,\n",
       " 'never': 1,\n",
       " 'new': 2,\n",
       " 'nobly': 1,\n",
       " 'nor': 1,\n",
       " 'not': 5,\n",
       " 'note': 1,\n",
       " 'now': 1,\n",
       " 'of': 5,\n",
       " 'on': 2,\n",
       " 'or': 2,\n",
       " 'our': 2,\n",
       " 'people': 3,\n",
       " 'perish': 1,\n",
       " 'place': 1,\n",
       " 'poor': 1,\n",
       " 'portion': 1,\n",
       " 'power': 1,\n",
       " 'proper': 1,\n",
       " 'proposition': 1,\n",
       " 'rather': 2,\n",
       " 'remaining': 1,\n",
       " 'remember': 1,\n",
       " 'resolve': 1,\n",
       " 'resting': 1,\n",
       " 'say': 1,\n",
       " 'score': 1,\n",
       " 'sense': 1,\n",
       " 'seven': 1,\n",
       " 'shall': 3,\n",
       " 'should': 1,\n",
       " 'so': 3,\n",
       " 'struggled': 1,\n",
       " 'take': 1,\n",
       " 'task': 1,\n",
       " 'testing': 1,\n",
       " 'that': 13,\n",
       " 'the': 11,\n",
       " 'their': 1,\n",
       " 'these': 2,\n",
       " 'they': 3,\n",
       " 'this': 4,\n",
       " 'those': 1,\n",
       " 'thus': 1,\n",
       " 'to': 8,\n",
       " 'under': 1,\n",
       " 'unfinished': 1,\n",
       " 'us': 3,\n",
       " 'vain': 1,\n",
       " 'war': 2,\n",
       " 'we': 10,\n",
       " 'what': 2,\n",
       " 'whether': 1,\n",
       " 'which': 2,\n",
       " 'who': 3,\n",
       " 'will': 1,\n",
       " 'work': 1,\n",
       " 'world': 1,\n",
       " 'years': 1}"
      ]
     },
     "execution_count": 56,
     "metadata": {},
     "output_type": "execute_result"
    }
   ],
   "source": [
    "#a brute force method hehe\n",
    "gettysburg_address.lower().split()\n",
    "wordwt=[i.replace(\",\",\"\").replace(\".\",\"\").replace(\"--\",\"\") for i in word]\n",
    "\n",
    "    \n",
    "uq_word=set(uq_word)\n",
    "#print(len(uq_word))\n",
    "#print(len(word))\n",
    "\n",
    "#Method 1 defining dictionary compact\n",
    "#dct={i:word.count(i)for i in uq_word }\n",
    "\n",
    "#Method 2 defining dictionary \n",
    "for i in uq_word:\n",
    "    dct[i]=word.count(i)\n",
    "dct"
   ]
  }
 ],
 "metadata": {
  "kernelspec": {
   "display_name": "Python 3",
   "language": "python",
   "name": "python3"
  },
  "language_info": {
   "codemirror_mode": {
    "name": "ipython",
    "version": 3
   },
   "file_extension": ".py",
   "mimetype": "text/x-python",
   "name": "python",
   "nbconvert_exporter": "python",
   "pygments_lexer": "ipython3",
   "version": "3.6.9"
  }
 },
 "nbformat": 4,
 "nbformat_minor": 2
}
