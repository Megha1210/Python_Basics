{
 "cells": [
  {
   "cell_type": "code",
   "execution_count": 36,
   "metadata": {},
   "outputs": [
    {
     "name": "stdout",
     "output_type": "stream",
     "text": [
      "<class 'list'>\n",
      "[2.3, 'string']\n",
      "string\n",
      "3\n"
     ]
    },
    {
     "data": {
      "text/plain": [
       "['add', [3, 3.3, 'int', 'float'], 'cat']"
      ]
     },
     "execution_count": 36,
     "metadata": {},
     "output_type": "execute_result"
    }
   ],
   "source": [
    "#Lists Class =[]\n",
    "\n",
    "#Create a list\n",
    "a=[]\n",
    "print(type(a))\n",
    "a=[2, 2.3, \"string\"]\n",
    "\n",
    "#Reading a list\n",
    "print(a[1:])\n",
    "print(a[-1])\n",
    "print(len(a))\n",
    "#print(a*2)\n",
    "\n",
    "\n",
    "#Update/manipulate list\n",
    "a[2]=\"float\"\n",
    "a[0:2]=[3, 3.3, \"int\"]   #[0:2] 2 is excluded thus 0 and 1 is placed with 3,3.3 and \"int\"\n",
    "a\n",
    "b=[\"rabbit\",\"dog\"]\n",
    "c=[a,b]\n",
    "#print(c.sort())  #only for same type of elements\n",
    "c\n",
    "c.append(\"cat\")\n",
    "#c.pop()     #pops out -1 th element\n",
    "c.pop(-2)\n",
    "c.insert(0,\"add\")\n",
    "c\n",
    "#Delete a list\n",
    "#c.clear()\n"
   ]
  },
  {
   "cell_type": "code",
   "execution_count": 46,
   "metadata": {},
   "outputs": [
    {
     "name": "stdout",
     "output_type": "stream",
     "text": [
      "True\n",
      "True\n"
     ]
    }
   ],
   "source": [
    "#Dictionary Class = {key:value}\n",
    "\n",
    "#Creat a dictionary\n",
    "d={1:'rose',2:'lily',3:'delia'}\n",
    "\n",
    "#Reading a dictionary\n",
    "val=list(d.values())\n",
    "val\n",
    "key=d.keys()\n",
    "key\n",
    "d[4] = \"mariegold\"\n",
    "d\n",
    "\n",
    "print(1 in key)\n",
    "print(2 in key)"
   ]
  },
  {
   "cell_type": "code",
   "execution_count": 53,
   "metadata": {},
   "outputs": [
    {
     "name": "stdout",
     "output_type": "stream",
     "text": [
      "[(1, 3), (1, 4), (2, 3), (2, 1), (2, 4), (3, 1), (3, 4)]\n",
      "[(1, 3), (1, 1), (1, 4), (2, 3), (2, 1), (2, 4), (3, 3), (3, 1), (3, 4)]\n"
     ]
    }
   ],
   "source": [
    "#List Comprehension : Easy way to initiate list\n",
    "\n",
    "squares = [x**2 for x in range(10)]\n",
    "squares\n",
    "\n",
    "list2=[(x, y) for x in [1,2,3] for y in [3,1,4] if x != y]\n",
    "print(list2)\n",
    "\n",
    "list1=[(x, y) for x in [1,2,3] for y in [3,1,4] ]\n",
    "print(list1)"
   ]
  },
  {
   "cell_type": "code",
   "execution_count": 65,
   "metadata": {},
   "outputs": [
    {
     "name": "stdout",
     "output_type": "stream",
     "text": [
      "[(0, 5), (1, 7), (2, 9), (3, 11), (4, 13), (5, 15), (6, 17), (7, 19), (8, 21), (9, 23)]\n",
      "(1, 1)\n",
      "(1, 1) (2, 1)\n"
     ]
    },
    {
     "data": {
      "text/plain": [
       "[(1, 1), (2, 1), (6, 3)]"
      ]
     },
     "execution_count": 65,
     "metadata": {},
     "output_type": "execute_result"
    }
   ],
   "source": [
    "#Tuples: The immutables   ()\n",
    "#Best use: defining coordinates\n",
    "#It is often not clear how tuples differ from lists. The most obvious way is that they are immutable. \n",
    "#Often we'll see tuples used to store related data that should all be interpreted together. \n",
    "#A good example is a Cartesian point, (x, y).\n",
    "\n",
    "#Create\n",
    "tpl=((1,1),(2,1))\n",
    "\n",
    "points = [(x, 2*x + 5) for x in range(10)]      #generate points for a curve using a list comprehension\n",
    "print(points)\n",
    "\n",
    "#Read\n",
    "w, x = tpl\n",
    "print(w)\n",
    "print(w, x)\n",
    "\n",
    "#update \n",
    "#convert to list\n",
    "t=list(tpl)\n",
    "t.append((6,3))\n",
    "t\n",
    "\n",
    "\n",
    "#Delete\n"
   ]
  }
 ],
 "metadata": {
  "kernelspec": {
   "display_name": "Python 3",
   "language": "python",
   "name": "python3"
  },
  "language_info": {
   "codemirror_mode": {
    "name": "ipython",
    "version": 3
   },
   "file_extension": ".py",
   "mimetype": "text/x-python",
   "name": "python",
   "nbconvert_exporter": "python",
   "pygments_lexer": "ipython3",
   "version": "3.6.9"
  }
 },
 "nbformat": 4,
 "nbformat_minor": 2
}
