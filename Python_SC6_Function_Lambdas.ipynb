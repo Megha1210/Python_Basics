{
 "cells": [
  {
   "cell_type": "code",
   "execution_count": 3,
   "metadata": {},
   "outputs": [
    {
     "name": "stdout",
     "output_type": "stream",
     "text": [
      "in function a = -100.0\n",
      "outside, a = -100.0\n"
     ]
    }
   ],
   "source": [
    "#Function : Easily do repeatative tasks \n",
    "#Maintain good work flow\n",
    "\n",
    "#By default, python will let you read from a global, but not update it..????\n",
    "a = 1.0\n",
    "\n",
    "def update():\n",
    "    # uncomment this to allow us to access outer in the calling namespace\n",
    "    global a\n",
    "    a = -100.0\n",
    "    print(\"in function a = {}\".format(a))\n",
    "    \n",
    "update()\n",
    "print(\"outside, a = {}\".format(a))"
   ]
  },
  {
   "cell_type": "code",
   "execution_count": 6,
   "metadata": {},
   "outputs": [
    {
     "name": "stdout",
     "output_type": "stream",
     "text": [
      "Nothing is done\n"
     ]
    }
   ],
   "source": [
    "def do_nothing():\n",
    "    pass\n",
    "a=do_nothing()\n",
    "if a is None:\n",
    "    print(\"Nothing is done\")"
   ]
  },
  {
   "cell_type": "code",
   "execution_count": 3,
   "metadata": {},
   "outputs": [
    {
     "name": "stdout",
     "output_type": "stream",
     "text": [
      "[1, 1, 2, 3, 5, 8, 13, 21, 34, 55, 89, 144, 233, 377, 610, 987, 1597, 2584, 4181, 6765, 10946, 17711, 28657, 46368, 75025, 121393, 196418]\n"
     ]
    }
   ],
   "source": [
    "#Write a function to generate fibonacci series of n elements\n",
    "\n",
    "def fibn(n):\n",
    "    fib_series=[1,1]\n",
    "    for i in range(0,n):\n",
    "        new_elt=fib_series[-1]+fib_series[-2]\n",
    "        fib_series.append(new_elt)\n",
    "    return fib_series\n",
    "        \n",
    " \n",
    "series=fibn(25)    # Printing fibonacci series of 25 element\n",
    "print(series)"
   ]
  },
  {
   "cell_type": "code",
   "execution_count": 11,
   "metadata": {},
   "outputs": [
    {
     "name": "stdout",
     "output_type": "stream",
     "text": [
      "[1, 1, 3, 4, 7, 11, 18, 29, 47, 76, 123, 199, 322]\n"
     ]
    }
   ],
   "source": [
    "#Write a function to generate fibonacci series upto the number n \n",
    "#Include docstring in function for help\n",
    "def fibn(n):\n",
    "    \"\"\"This function generates fibonacci series upto the number n\"\"\"\n",
    "    fib_series=[1,1]\n",
    "    new_elt=fib_series[-1]+fib_series[-2]\n",
    "    while new_elt<n:\n",
    "        new_elt=fib_series[-2]+new_elt\n",
    "        fib_series.append(new_elt)\n",
    "        \n",
    "    return fib_series\n",
    "\n",
    "series=print(fibn(200))\n",
    "    "
   ]
  },
  {
   "cell_type": "code",
   "execution_count": 13,
   "metadata": {},
   "outputs": [
    {
     "name": "stdout",
     "output_type": "stream",
     "text": [
      "Help on function fibn in module __main__:\n",
      "\n",
      "fibn(n)\n",
      "    This function generates fibonacci series upto the number n\n",
      "\n"
     ]
    }
   ],
   "source": [
    "help(fibn)"
   ]
  },
  {
   "cell_type": "markdown",
   "metadata": {},
   "source": [
    "We can provide an additional optional argument in the function to define default.\n",
    "ex. def function(value,default)\n",
    "\n",
    "NOTE:Python evaluates optional argument only once when the function is defined. This means that if you make the default an empty object, for instance, it will persist across all calls.\n",
    "\n"
   ]
  },
  {
   "cell_type": "code",
   "execution_count": 39,
   "metadata": {},
   "outputs": [
    {
     "name": "stdout",
     "output_type": "stream",
     "text": [
      "False\n",
      "True\n"
     ]
    }
   ],
   "source": [
    "#Define function to check if the entry is integer=3\n",
    "\n",
    "def check_answer(val, Entry=3):\n",
    "    if val == Entry:\n",
    "        return True\n",
    "    else:\n",
    "        return False\n",
    "\n",
    "print(check_answer(\"a\"))\n",
    "print(check_answer(3))"
   ]
  },
  {
   "cell_type": "code",
   "execution_count": 19,
   "metadata": {},
   "outputs": [
    {
     "name": "stdout",
     "output_type": "stream",
     "text": [
      "[1]\n",
      "[1, 2]\n",
      "[1, 2, 3]\n"
     ]
    }
   ],
   "source": [
    "#it is important to note that python evaluates the optional arguments once—\n",
    "#when the function is defined. This means that if you make the default an empty object, \n",
    "#for instance,it will persist across all calls.\n",
    "\n",
    "def f(a, L=[]):\n",
    "    L.append(a)\n",
    "    return L\n",
    "\n",
    "print(f(1))\n",
    "print(f(2))\n",
    "print(f(3))"
   ]
  },
  {
   "cell_type": "code",
   "execution_count": 40,
   "metadata": {},
   "outputs": [
    {
     "name": "stdout",
     "output_type": "stream",
     "text": [
      "[1]\n",
      "[2]\n",
      "[3]\n",
      "[1, 2]\n"
     ]
    }
   ],
   "source": [
    "def fnew(a, L=None):\n",
    "    if L is None:\n",
    "        L = []\n",
    "    L.append(a)\n",
    "    return L\n",
    "\n",
    "print(fnew(1))\n",
    "print(fnew(2))\n",
    "print(fnew(3))\n",
    "\n",
    "L = fnew(1)\n",
    "print(fnew(2, L=L))"
   ]
  },
  {
   "cell_type": "markdown",
   "metadata": {},
   "source": [
    "\n",
    "Lambdas\n",
    " are \"disposible\" functions. These are small, nameless functions that are often used as arguments in other functions.\n",
    "\n",
    "Ex, from the official tutorial: we have a list of tuples. We want to sort the list based on the second item in the tuple. The sort method can take a key optional argument that tells us how to interpret the list item for sorting"
   ]
  },
  {
   "cell_type": "code",
   "execution_count": 26,
   "metadata": {},
   "outputs": [
    {
     "data": {
      "text/plain": [
       "[(2, 'black'), (1, 'green'), (4, 'orange'), (3, 'yellow')]"
      ]
     },
     "execution_count": 26,
     "metadata": {},
     "output_type": "execute_result"
    }
   ],
   "source": [
    "#use \"lambda x \" to define a disposible function\n",
    "#'lambda x: x[1]' defines variable to evaluate \n",
    "pairs = [(1,'green'), (2,'black'), (3, 'yellow'), (4,'orange')]\n",
    "pairs.sort(key=lambda p: p[1])\n",
    "pairs"
   ]
  },
  {
   "cell_type": "code",
   "execution_count": 34,
   "metadata": {},
   "outputs": [
    {
     "name": "stdout",
     "output_type": "stream",
     "text": [
      "[0, 1, 4, 9, 16, 25, 36, 49, 64, 81, 100, 121, 144, 169, 196, 225, 256, 289, 324, 361, 400, 441, 484, 529, 576, 625, 676, 729, 784, 841, 900, 961, 1024, 1089, 1156, 1225, 1296, 1369, 1444, 1521, 1600, 1681, 1764, 1849, 1936, 2025, 2116, 2209, 2304, 2401, 2500, 2601, 2704, 2809, 2916, 3025, 3136, 3249, 3364, 3481, 3600, 3721, 3844, 3969, 4096, 4225, 4356, 4489, 4624, 4761, 4900, 5041, 5184, 5329, 5476, 5625, 5776, 5929, 6084, 6241, 6400, 6561, 6724, 6889, 7056, 7225, 7396, 7569, 7744, 7921, 8100, 8281, 8464, 8649, 8836, 9025, 9216, 9409, 9604, 9801, 10000]\n",
      "[0, 225, 900, 2025, 3600, 5625, 8100]\n"
     ]
    }
   ],
   "source": [
    "#Define squares upto 100\n",
    "squares = [x**2 for x in range(101)]\n",
    "print(squares)\n",
    "\n",
    "#Filter out squares of numbers which are multiples of 15 ie numbers, divisible by 3 and 5\n",
    "sq = list(filter(lambda p : p%3 == 0 and p%5 == 0, squares))\n",
    "\n",
    "#help(filter)\n",
    "print(sq)"
   ]
  },
  {
   "cell_type": "code",
   "execution_count": null,
   "metadata": {},
   "outputs": [],
   "source": []
  }
 ],
 "metadata": {
  "kernelspec": {
   "display_name": "Python 3",
   "language": "python",
   "name": "python3"
  },
  "language_info": {
   "codemirror_mode": {
    "name": "ipython",
    "version": 3
   },
   "file_extension": ".py",
   "mimetype": "text/x-python",
   "name": "python",
   "nbconvert_exporter": "python",
   "pygments_lexer": "ipython3",
   "version": "3.6.9"
  }
 },
 "nbformat": 4,
 "nbformat_minor": 2
}
