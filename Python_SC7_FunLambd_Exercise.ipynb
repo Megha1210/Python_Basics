{
 "cells": [
  {
   "cell_type": "markdown",
   "metadata": {},
   "source": [
    "Q1\n",
    "a simple function that takes a string and returns a list of all the 4 letter words"
   ]
  },
  {
   "cell_type": "code",
   "execution_count": 11,
   "metadata": {},
   "outputs": [
    {
     "data": {
      "text/plain": [
       "['four', 'word']"
      ]
     },
     "execution_count": 11,
     "metadata": {},
     "output_type": "execute_result"
    }
   ],
   "source": [
    "#Make use of list comprehension\n",
    "def four_letterwrd(string):\n",
    "    word=string.split()\n",
    "    lst=[i for i in word if len(i)==4]\n",
    "    return  lst\n",
    "mystring=\"There is no four letter word\"\n",
    "four_letterwrd(mystring)"
   ]
  },
  {
   "cell_type": "markdown",
   "metadata": {},
   "source": [
    "Q2\n",
    "Write a version of this function that takes a second argument, n, that is the word length we want to search for"
   ]
  },
  {
   "cell_type": "code",
   "execution_count": 16,
   "metadata": {},
   "outputs": [
    {
     "data": {
      "text/plain": [
       "['four', 'word']"
      ]
     },
     "execution_count": 16,
     "metadata": {},
     "output_type": "execute_result"
    }
   ],
   "source": [
    "def four_letterwrd(string, n):\n",
    "    word=string.split()\n",
    "    lst=[i for i in word if len(i)==n]\n",
    "    return  lst\n",
    "mystring=\"There is no four letter word\"\n",
    "four_letterwrd(mystring,n=4)"
   ]
  },
  {
   "cell_type": "markdown",
   "metadata": {},
   "source": [
    "Q 2 (primes)¶\n",
    "A prime number is divisible only by 1 and itself. We want to write a function that takes a positive integer, n, and finds all of the primes up to that number.\n",
    "\n",
    "A simple (although not very fast) way to find the primes is to start at 1, and build a list of primes by checking if the current number is divisible by any of the previously found primes. If it is not divisible by any earlier primes, then it is a prime.\n",
    "\n",
    "The modulus operator, % could be helpful here."
   ]
  },
  {
   "cell_type": "markdown",
   "metadata": {},
   "source": [
    "def prime(n):\n",
    "    numbers=[i for i in range(3,n+1)]\n",
    "    print(numbers)\n",
    "    for i in numbers:\n",
    "        while i<n:\n",
    "            prime=list(filter(lambda x:x%(i-1)!=0,numbers))\n",
    "        i+=i\n",
    "    print(prime)\n",
    "prime(10)"
   ]
  },
  {
   "cell_type": "code",
   "execution_count": 1,
   "metadata": {},
   "outputs": [
    {
     "data": {
      "text/plain": [
       "[1, 2, 1]"
      ]
     },
     "execution_count": 1,
     "metadata": {},
     "output_type": "execute_result"
    }
   ],
   "source": [
    "def primes(n):\n",
    "    p = [1, 2]\n",
    "    for num in range(n):\n",
    "        prime = True\n",
    "        for c in p:\n",
    "            if num % c == 0:\n",
    "                prime = False\n",
    "            else:\n",
    "                prime = True\n",
    "        if prime:\n",
    "            p.append(num)\n",
    "    return p\n",
    "\n",
    "primes(15)"
   ]
  },
  {
   "cell_type": "markdown",
   "metadata": {},
   "source": [
    "Write a function, convert_type(a) that takes a string a, and converts it to a float if it is a number with a decimal point, an int if it is an integer, or leaves it as a string otherwise, and returns the result. You'll want to use exceptions to prevent the code from aborting."
   ]
  },
  {
   "cell_type": "code",
   "execution_count": 28,
   "metadata": {},
   "outputs": [
    {
     "name": "stdout",
     "output_type": "stream",
     "text": [
      "Enter something 2\n",
      "<class 'int'>\n"
     ]
    }
   ],
   "source": [
    "def convert_type():\n",
    "    a=input(\"Enter something \")\n",
    "    try :\n",
    "        integer=int(a)\n",
    "        print(type(integer))\n",
    "    except ValueError:\n",
    "        try:\n",
    "            flot=float(a)\n",
    "            print(type(flot))\n",
    "        except ValueError:\n",
    "            print(type(a))\n",
    "    \n",
    "    \n",
    "    \n",
    "convert_type()"
   ]
  },
  {
   "cell_type": "markdown",
   "metadata": {},
   "source": [
    "Design a tic tac toe game\n",
    "https://github.com/sbu-python-class/python-science/blob/master/lectures/01-python/w3-python-exercises.ipynb"
   ]
  },
  {
   "cell_type": "code",
   "execution_count": null,
   "metadata": {},
   "outputs": [],
   "source": []
  }
 ],
 "metadata": {
  "kernelspec": {
   "display_name": "Python 3",
   "language": "python",
   "name": "python3"
  },
  "language_info": {
   "codemirror_mode": {
    "name": "ipython",
    "version": 3
   },
   "file_extension": ".py",
   "mimetype": "text/x-python",
   "name": "python",
   "nbconvert_exporter": "python",
   "pygments_lexer": "ipython3",
   "version": "3.6.9"
  }
 },
 "nbformat": 4,
 "nbformat_minor": 2
}
