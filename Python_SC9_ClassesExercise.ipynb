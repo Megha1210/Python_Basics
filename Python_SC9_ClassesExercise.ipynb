{
 "cells": [
  {
   "cell_type": "markdown",
   "metadata": {},
   "source": [
    "\n",
    "Exercise 1 (shopping cart)¶\n",
    "\n",
    "\n",
    "Let's write a simple shopping cart class -- this will hold items that you intend to purchase as well as the amount, etc. And allow you to add / remove items, get a subtotal, etc.\n",
    "\n",
    "We'll use two classes: Item will be a single item and ShoppingCart will be the collection of items you wish to purchase.\n",
    "\n",
    "First, our store needs an inventory -- here's what we have for sale:"
   ]
  },
  {
   "cell_type": "code",
   "execution_count": 23,
   "metadata": {},
   "outputs": [
    {
     "name": "stdout",
     "output_type": "stream",
     "text": [
      "{'apple': 0.6, 'banana': 0.2, 'grapefruit': 0.75, 'grapes': 1.99, 'kiwi': 0.5, 'lemon': 0.2, 'lime': 0.25, 'mango': 1.5, 'papaya': 2.95, 'pineapple': 3.5, 'blueberries': 1.99, 'blackberries': 2.5, 'peach': 0.5, 'plum': 0.33, 'clementine': 0.25, 'cantaloupe': 3.25, 'pear': 1.25, 'quince': 0.45, 'orange': 0.6}\n",
      "yes\n",
      "dict_keys(['apple', 'banana', 'grapefruit', 'grapes', 'kiwi', 'lemon', 'lime', 'mango', 'papaya', 'pineapple', 'blueberries', 'blackberries', 'peach', 'plum', 'clementine', 'cantaloupe', 'pear', 'quince', 'orange'])\n"
     ]
    }
   ],
   "source": [
    "#1.Make a dictionary of item and price from the inventory\n",
    "INVENTORY_TEXT = \"\"\"apple, 0.60\n",
    "banana, 0.20\n",
    "grapefruit, 0.75\n",
    "grapes, 1.99\n",
    "kiwi, 0.50\n",
    "lemon, 0.20\n",
    "lime, 0.25\n",
    "mango, 1.50\n",
    "papaya, 2.95\n",
    "pineapple, 3.50\n",
    "blueberries, 1.99\n",
    "blackberries, 2.50\n",
    "peach, 0.50\n",
    "plum, 0.33\n",
    "clementine, 0.25\n",
    "cantaloupe, 3.25\n",
    "pear, 1.25\n",
    "quince, 0.45\n",
    "orange, 0.60\n",
    "\"\"\"\n",
    "#it has multiple lines --use splitlines\n",
    "inventory={}\n",
    "for i in INVENTORY_TEXT.splitlines():\n",
    "    item,price=i.split(\",\")\n",
    "    #print(item,price)\n",
    "    inventory[item]=float(price)\n",
    "print(inventory)\n",
    "\n",
    "if'apple' in inventory:\n",
    "    print('yes')\n",
    "    print(inventory.keys())\n"
   ]
  },
  {
   "cell_type": "code",
   "execution_count": 47,
   "metadata": {},
   "outputs": [
    {
     "name": "stdout",
     "output_type": "stream",
     "text": [
      "[apple:2, apple:4, apple:1, banana:1]\n"
     ]
    }
   ],
   "source": [
    "#2. Define a class called item, in which we check:\n",
    "# if the item exist in inventory\n",
    "# add same item\n",
    "# give error if user try to add together two different itmes\n",
    "\n",
    "class SoppingItems:\n",
    "    #define init method having attribute name and price\n",
    "    def __init__(self,name,quantity=1):\n",
    "        if name not in inventory:\n",
    "            raise ValueError(\"This item is not in inventory\")\n",
    "        self.name=name\n",
    "        self.quantity=quantity\n",
    "#CHeck\n",
    "#a=SoppingItems('a',2.0)\n",
    "#print(a)\n",
    "\n",
    "    #Define __repr__ method for representing item:quantitiy    \n",
    "    def __repr__(self):\n",
    "        return(\"{}:{}\".format(self.name, self.quantity))       \n",
    "#CHeck\n",
    "#a=SoppingItems('apple',2.0)\n",
    "#print(a)\n",
    "\n",
    "    #Define__eq__ to test if two items are similar\n",
    "    def __eq__(self,other):\n",
    "        return self.name==other.name\n",
    "\n",
    "    #add similar items\n",
    "    def __add__(self,other):\n",
    "        if self.name==other.name:\n",
    "            return SoppingItems(self.name,self.quantity+other.quantity)\n",
    "        else:\n",
    "            raise ValueError(\"names doesnt match\")\n",
    "#Check\n",
    "a=SoppingItems('apple',2)\n",
    "b=SoppingItems('apple',4)\n",
    "c=SoppingItems('apple',1)\n",
    "e=SoppingItems('banana',1)\n",
    "#d=a+b+c\n",
    "#f=c+e\n",
    "#print(f.quantity)\n",
    "\n",
    "items=[]\n",
    "items.append(a)\n",
    "items.append(b)\n",
    "items.append(c)\n",
    "items.append(e)\n",
    "print(items)\n",
    "     "
   ]
  },
  {
   "cell_type": "code",
   "execution_count": 48,
   "metadata": {},
   "outputs": [],
   "source": [
    "class ShoppingCart(object):\n",
    "    \n",
    "    def __init__(self):\n",
    "        # the list of items we control\n",
    "        self.items = []\n",
    "        \n",
    "    def subtotal(self):\n",
    "        \"\"\" return a subtotal of our items \"\"\"\n",
    "        pass\n",
    "\n",
    "    def add(self, name, quantity):\n",
    "        \"\"\" add an item to our cart -- the an item of the same name already\n",
    "        exists, then increment the quantity.  Otherwise, add a new item\n",
    "        to the cart with the desired quantity.\"\"\"\n",
    "        pass\n",
    "        \n",
    "    def remove(self, name):\n",
    "        \"\"\" remove all of item name from the cart \"\"\"\n",
    "        pass\n",
    "        \n",
    "    def report(self):\n",
    "        \"\"\" print a summary of the cart \"\"\"\n",
    "        for item in self.items:\n",
    "            print(\"{} : {}\".format(item.name, item.quantity))"
   ]
  },
  {
   "cell_type": "code",
   "execution_count": 50,
   "metadata": {},
   "outputs": [
    {
     "name": "stdout",
     "output_type": "stream",
     "text": [
      "None\n"
     ]
    }
   ],
   "source": [
    "sc = ShoppingCart()\n",
    "print(sc.add(\"orange\", 19))"
   ]
  },
  {
   "cell_type": "code",
   "execution_count": null,
   "metadata": {},
   "outputs": [],
   "source": []
  }
 ],
 "metadata": {
  "kernelspec": {
   "display_name": "Python 3",
   "language": "python",
   "name": "python3"
  },
  "language_info": {
   "codemirror_mode": {
    "name": "ipython",
    "version": 3
   },
   "file_extension": ".py",
   "mimetype": "text/x-python",
   "name": "python",
   "nbconvert_exporter": "python",
   "pygments_lexer": "ipython3",
   "version": "3.6.9"
  }
 },
 "nbformat": 4,
 "nbformat_minor": 2
}
