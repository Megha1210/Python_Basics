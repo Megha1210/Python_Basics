{
 "cells": [
  {
   "cell_type": "code",
   "execution_count": 44,
   "metadata": {},
   "outputs": [
    {
     "name": "stdout",
     "output_type": "stream",
     "text": [
      "12345\n",
      "<function Define_class.function at 0x7f4dac9d4378>\n",
      "A simple example class and demonstrating attribute referances like, object.name \n"
     ]
    }
   ],
   "source": [
    "# referance: https://docs.python.org/3/tutorial/classes.html\n",
    "#Defining a simple Class\n",
    "\n",
    "class Define_class:\n",
    "    \"\"\"A simple example class and demonstrating attribute referances like, object.name \"\"\"\n",
    "    integer = 12345\n",
    "    def function(self):\n",
    "        flot=0.147\n",
    "        return flot\n",
    "    \n",
    "print(Define_class.integer)\n",
    "print(Define_class.function)\n",
    "print(Define_class.__doc__)"
   ]
  },
  {
   "cell_type": "code",
   "execution_count": 46,
   "metadata": {},
   "outputs": [
    {
     "data": {
      "text/plain": [
       "'pink'"
      ]
     },
     "execution_count": 46,
     "metadata": {},
     "output_type": "execute_result"
    }
   ],
   "source": [
    "#Define a class as:\n",
    "#                  class Class_name(objects)\n",
    "#                        pass\n",
    "\n",
    "\n",
    "class flowers(object):\n",
    "    pass\n",
    "a=flowers()\n",
    "a.rose='pink'\n",
    "a.lily='white'\n",
    "a.cosmos='yellow'\n",
    "a.rose\n"
   ]
  },
  {
   "cell_type": "code",
   "execution_count": 45,
   "metadata": {},
   "outputs": [
    {
     "name": "stdout",
     "output_type": "stream",
     "text": [
      "Rose red\n",
      "Lily white\n",
      "Lily yellow\n",
      "Rose pink\n",
      "Rose yellow\n",
      "cosmos purple\n",
      "cosmos orange\n"
     ]
    }
   ],
   "source": [
    "#Defining a complex Class\n",
    "#When you instantiate a class, the __init__ method is called. \n",
    "#Note that all method in a class always have \"self\" as the first argument \n",
    "#--\"self\" refers to the object that is invoking the method.\n",
    "\n",
    "class flower(object):\n",
    "    def __init__(self,name,color=None):\n",
    "        self.name=name\n",
    "        self.color=color\n",
    "    \n",
    "\n",
    "a=flower(\"rose\")\n",
    "\n",
    "#create a list    #This list cant be visualised as a regular simple list\n",
    "all_flowers=[]\n",
    "all_flowers.append(flower(\"Rose\",\"red\"))\n",
    "all_flowers.append(flower(\"Lily\",\"white\"))\n",
    "all_flowers.append(flower(\"Lily\",\"yellow\"))\n",
    "all_flowers.append(flower(\"Rose\",\"pink\"))\n",
    "all_flowers.append(flower(\"Rose\",\"yellow\"))\n",
    "all_flowers.append(flower(\"cosmos\",\"purple\"))\n",
    "all_flowers.append(flower(\"cosmos\",\"orange\"))\n",
    "\n",
    "for i in all_flowers:\n",
    "    print(i.name,i.color)"
   ]
  },
  {
   "cell_type": "markdown",
   "metadata": {},
   "source": [
    "\n",
    "Classes are the fundamental concept for object oriented programming. A class defines a data type with both data and functions that can operate on the data. An object is an instance/subordinate of a class. Each object will have its own namespace  (separate from other instances of the class and other functions, etc. in your program).\n",
    "\n",
    "We use the dot operator, ., to access members of the class (data or functions). We've already been doing this a lot, strings, ints, lists, ... are all objects in python.\n",
    "\n",
    "simplest example: just a container (like a struct in C)\n",
    "\n",
    "    \n",
    "notice that you don't have to declare what variables are members of the class ahead of time (although, usually that's good practice).\n",
    "\n",
    "Here, we give the class name an argument, 'object'. This is an example of inheritance. For a general class, we inherit from the base python object class."
   ]
  },
  {
   "cell_type": "code",
   "execution_count": 23,
   "metadata": {},
   "outputs": [
    {
     "name": "stdout",
     "output_type": "stream",
     "text": [
      "['Lily', 'Rose']\n"
     ]
    }
   ],
   "source": [
    "#We can use list comprehensions with our list of objects. \n",
    "#For example, let's find all the flowers which are yellow\n",
    "\n",
    "yellow_flowers=[i.name for i in all_flowers if i.color=='yellow']\n",
    "print(yellow_flowers)"
   ]
  },
  {
   "cell_type": "markdown",
   "metadata": {},
   "source": [
    "Playing Cards\n",
    "\n",
    "here's a more complicated class that represents a playing card. Notice that we are using 'unicode' to represent the suits.\n",
    "\n",
    "unicode support in python is also one of the major differences between python 2 and 3. In python 3, every string is unicode."
   ]
  },
  {
   "cell_type": "code",
   "execution_count": 2,
   "metadata": {},
   "outputs": [
    {
     "name": "stdout",
     "output_type": "stream",
     "text": [
      "J:♠ J:♥ J:♦ J:♣\n",
      "False\n",
      "True\n",
      "11\n"
     ]
    }
   ],
   "source": [
    "class card(object):\n",
    "    \n",
    "    def __init__(self, suit=1, rank=2):\n",
    "        if suit < 1 or suit > 4:\n",
    "            print(\"invalid suit, setting to 1\")\n",
    "            suit = 1\n",
    "            \n",
    "        self.suit = suit\n",
    "        self.rank = rank\n",
    "        \n",
    "\n",
    "    def value(self):\n",
    "        \"\"\" we want things order primarily by rank then suit \"\"\"\n",
    "        return self.suit + (self.rank-1)*14\n",
    "    \n",
    "    # we include this to allow for comparisons with < and > between cards \n",
    "    def __lt__(self, other):\n",
    "        return self.value() < other.value()\n",
    "\n",
    "    def __unicode__(self):\n",
    "        suits = [u\"\\u2660\",  # spade\n",
    "                 u\"\\u2665\",  # heart\n",
    "                 u\"\\u2666\",  # diamond\n",
    "                 u\"\\u2663\"]  # club\n",
    "        \n",
    "        r = str(self.rank)\n",
    "        if self.rank == 11:\n",
    "            r = \"J\"\n",
    "        elif self.rank == 12:\n",
    "            r = \"Q\"\n",
    "        elif self.rank == 13:\n",
    "            r = \"K\"\n",
    "        elif self.rank == 14:\n",
    "            r = \"A\"\n",
    "                \n",
    "        return r +':'+suits[self.suit-1]\n",
    "    \n",
    "    def __str__(self):\n",
    "        return self.__unicode__()  #.encode('utf-8')\n",
    "    \n",
    "c1=card(suit=1,rank=11)\n",
    "c2=card(suit=2,rank=11)\n",
    "c3=card(suit=3,rank=11)\n",
    "c4=card(suit=4,rank=11)\n",
    "print(c1,c2,c3,c4)\n",
    "print(c1>c2>c3>c4)\n",
    "print(c1<c2<c3<c4)\n",
    "print(c1.rank)"
   ]
  },
  {
   "cell_type": "markdown",
   "metadata": {},
   "source": [
    "\n",
    "Quick Exercise:\n",
    "\n",
    "Create a \"hand\" corresponding to a straight (5 cards of any suite, but in sequence of rank)\n",
    "\n",
    "Create another hand corresponding to a flush (5 cards all of the same suit, of any rank)\n",
    "\n",
    "Finally create a hand with one of the cards duplicated—this should not be allowed in a standard deck of cards. How would you check for this?"
   ]
  },
  {
   "cell_type": "code",
   "execution_count": 18,
   "metadata": {},
   "outputs": [
    {
     "name": "stdout",
     "output_type": "stream",
     "text": [
      "13 11 13 13 13\n",
      "[<__main__.card object at 0x7f4dac9cc5c0>, <__main__.card object at 0x7f4daca47cf8>, <__main__.card object at 0x7f4dac9cc668>, <__main__.card object at 0x7f4dac9cc6d8>, <__main__.card object at 0x7f4dac9cc160>]\n",
      "[2, 4, 4, 4, 4, 11, 13, 13, 13, 13]\n"
     ]
    }
   ],
   "source": [
    "#Create a \"hand\" corresponding to a straight (5 cards of any suite, but in sequence of rank)\n",
    "\n",
    "import random\n",
    "a=random.randint(1,4)\n",
    "b=random.randint(11,14)\n",
    "#help(random)\n",
    "\n",
    "c1=card(suit=a,rank=b)\n",
    "c1=card(suit=a,rank=b)\n",
    "c3=card(suit=a,rank=b)\n",
    "c4=card(suit=a,rank=b)\n",
    "c5=card(suit=a,rank=b)\n",
    "print(c1.rank,c2.rank,c3.rank,c4.rank,c5.rank)\n",
    "\n",
    "cards=[c1,c2,c3,c4,c5]\n",
    "print(cards)\n",
    "rank=[]\n",
    "for i in cards:\n",
    "    rank.append(i.rank)\n",
    "    rank.append(i.suit)\n",
    "print(sorted(rank))\n",
    "    \n",
    "\n"
   ]
  },
  {
   "cell_type": "code",
   "execution_count": 38,
   "metadata": {},
   "outputs": [
    {
     "name": "stdout",
     "output_type": "stream",
     "text": [
      "Local flower is Rose\n",
      "Non local flower is African lily \n",
      "Global flower is African lily \n",
      "Oveall Global flower is Lotus\n"
     ]
    }
   ],
   "source": [
    "#Note how the local assignment (which is default) didn’t change scope_test’s binding of spam.\n",
    "#The nonlocal assignment changed scope_test’s binding of spam, \n",
    "#and the global assignment changed the module-level binding.\n",
    "\n",
    "#You can also see that there was no previous binding for spam before the global assignment.\n",
    "\n",
    "def Scope_test():\n",
    "    def local():\n",
    "        flower=\"Comman lily\"\n",
    "    def non_local():\n",
    "        nonlocal flower\n",
    "        flower=\"African lily \"\n",
    "    def scope_global():\n",
    "        global flower\n",
    "        flower=\"Lotus\"\n",
    "        \n",
    "    flower=\"Rose\"\n",
    "    local()\n",
    "    print(\"Local flower is\",flower)\n",
    "    non_local()\n",
    "    print(\"Non local flower is\",flower)\n",
    "    scope_global()\n",
    "    print(\"Global flower is\",flower)\n",
    "\n",
    "Scope_test()\n",
    "print(\"Oveall Global flower is\",flower)"
   ]
  }
 ],
 "metadata": {
  "kernelspec": {
   "display_name": "Python 3",
   "language": "python",
   "name": "python3"
  },
  "language_info": {
   "codemirror_mode": {
    "name": "ipython",
    "version": 3
   },
   "file_extension": ".py",
   "mimetype": "text/x-python",
   "name": "python",
   "nbconvert_exporter": "python",
   "pygments_lexer": "ipython3",
   "version": "3.6.9"
  }
 },
 "nbformat": 4,
 "nbformat_minor": 2
}
