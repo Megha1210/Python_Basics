{
 "cells": [
  {
   "cell_type": "markdown",
   "metadata": {},
   "source": [
    "\n",
    "Exercise 1: Rock-Paper-Scissors¶\n",
    "\n",
    "\n",
    "Implement a set of games of rock-paper-scissors against the computer.\n",
    "\n",
    "Ask for input from the user (\"rock\", \"paper\", or \"scissors\") and the randomly select one of these for the computer's play.\n",
    "Announce who won.\n",
    "Keep playing until a player says that they no longer want to play.\n",
    "When all games are done, print out how many games were won by the player and by the computer"
   ]
  },
  {
   "cell_type": "code",
   "execution_count": 17,
   "metadata": {},
   "outputs": [
    {
     "name": "stdout",
     "output_type": "stream",
     "text": [
      "Enter integer for\n",
      " 1:Rock\n",
      " 2:Paper\n",
      " 3:Scissors?1\n",
      "1\n",
      "1\n",
      "You loose!!\n"
     ]
    }
   ],
   "source": [
    "import random\n",
    "inp=input(\"Enter integer for\\n 1:Rock\\n 2:Paper\\n 3:Scissors?\")\n",
    "if int(inp)<1 or int(inp)>3:\n",
    "    raise ValueError(\"Invalid input\")\n",
    "print(inp)   \n",
    "comp=random.randint(1,3)\n",
    "print(comp)\n",
    "\n",
    "userwin=[]\n",
    "compwint=[]\n",
    "tie=[]\n",
    "if comp==inp:\n",
    "    print(\"There is tie!!\")\n",
    "    tie.append(1.0)\n",
    "elif inp==1 and comp==3 or inp==2 and comp==1 or inp==3 and comp==2:\n",
    "    print(\"You Won!!\")\n",
    "else:\n",
    "    print(\"You loose!!\")\n",
    "\n"
   ]
  },
  {
   "cell_type": "code",
   "execution_count": 22,
   "metadata": {},
   "outputs": [
    {
     "name": "stdout",
     "output_type": "stream",
     "text": [
      "Enter integer for\n",
      " 1:Rock\n",
      " 2:Paper\n",
      " 3:Scissors?2\n",
      "2\n"
     ]
    }
   ],
   "source": [
    "import random\n",
    "\n",
    "\n",
    "def RPS_game():\n",
    "    \"\"\"This is a user vs computer rock,paper,scissor game\"\"\"\n",
    "    \n",
    "    inp=input(\"Enter integer for\\n 1:Rock\\n 2:Paper\\n 3:Scissors?\")\n",
    "    \n",
    "    if int(inp)<1 or int(inp)>3:\n",
    "        raise ValueError(\"Invalid input\")\n",
    "        \n",
    "    comp=random.randint(1,3)\n",
    "    print(comp)\n",
    "    \n",
    "    userwin=[]\n",
    "    compwin=[]\n",
    "    tie=[]\n",
    "    \n",
    "    if comp==inp:\n",
    "        print(\"There is tie!!\")\n",
    "        \n",
    "\n",
    "\n",
    "RPS_game()\n",
    "\n"
   ]
  }
 ],
 "metadata": {
  "kernelspec": {
   "display_name": "Python 3",
   "language": "python",
   "name": "python3"
  },
  "language_info": {
   "codemirror_mode": {
    "name": "ipython",
    "version": 3
   },
   "file_extension": ".py",
   "mimetype": "text/x-python",
   "name": "python",
   "nbconvert_exporter": "python",
   "pygments_lexer": "ipython3",
   "version": "3.6.9"
  }
 },
 "nbformat": 4,
 "nbformat_minor": 2
}
