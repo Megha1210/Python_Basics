{
 "cells": [
  {
   "cell_type": "code",
   "execution_count": 13,
   "metadata": {},
   "outputs": [
    {
     "name": "stdout",
     "output_type": "stream",
     "text": [
      "<class 'tuple'>\n",
      "this is tuple ()\n",
      "tuple2 this is tuple\n",
      "5\n",
      "3\n",
      "1\n"
     ]
    }
   ],
   "source": [
    "#Data Type : Tuple\n",
    "\n",
    "'''List and Tuple are called compound data types and are one of the key types of data\n",
    "structures in Python. Tuples. Tuples are an ordered sequence.''' \n",
    "tp=(\"this is tuple\",3,4.23)\n",
    "print(type(tp))\n",
    "\n",
    "#Each element of a tuple can be accessed via an index.\n",
    "print(tp[0],tp[-1:-3])\n",
    "\n",
    "# concatenate or combine tuples by adding them.\n",
    "tp2=(\"tuple2\",2)\n",
    "tp3=tp+tp2\n",
    "print(tp3[-2],tp3[0])\n",
    "\n",
    "#slice tuples. \n",
    "tp3[0:3]\n",
    "\n",
    "# len command to obtain thelength of a tuple.\n",
    "print(len(tp3))\n",
    "\n",
    "#Tuples are immutable which means we can't change them.\n",
    "#tp3[2]='new'                     #TypeError: 'tuple' object does not support item assignment\n",
    "\n",
    "tp4=(1,3,4,56,78)\n",
    "sort=sorted(tp4)    #Creates a list of sorted tuplr elements\n",
    "\n",
    "#A tuple can contain other tuples as well as other complex data types: nesting.\n",
    "tp5=(tp,tp2,tp4)\n",
    "print(tp5[0][1])      #any element in ant tuple is accessible by using []\n",
    "\n",
    "#Finding index of an element\n",
    "print(tp5.index((\"tuple2\",2)))  #cannot find element inside individual tuple"
   ]
  },
  {
   "cell_type": "code",
   "execution_count": 9,
   "metadata": {},
   "outputs": [
    {
     "name": "stdout",
     "output_type": "stream",
     "text": [
      "[1, 2, 3, 4, 5, 6]\n",
      "[1, 52, 3, 4, 5, 6]\n",
      "['my', 'list']\n",
      "['my', 'list'] ['your', 'list']\n"
     ]
    }
   ],
   "source": [
    "#Data type :Lists\n",
    "\n",
    "#list aliasing\n",
    "a=[1,2,3,4,5,6]\n",
    "b=a\n",
    "print(b)\n",
    "b[1]=52\n",
    "print(a)   #Aliasing creates two variables for single list thus if one changes, so does the other\n",
    "\n",
    "#List clonning\n",
    "c=[\"my\",\"list\"]\n",
    "d=c[:]    #Clonning creates seaprate copy of the list\n",
    "print(d)\n",
    "d[0]='your'\n",
    "print(c,d)"
   ]
  },
  {
   "cell_type": "code",
   "execution_count": 36,
   "metadata": {},
   "outputs": [
    {
     "name": "stdout",
     "output_type": "stream",
     "text": [
      "<class 'list'>\n",
      "[2.3, 'string']\n",
      "string\n",
      "3\n"
     ]
    },
    {
     "data": {
      "text/plain": [
       "['add', [3, 3.3, 'int', 'float'], 'cat']"
      ]
     },
     "execution_count": 36,
     "metadata": {},
     "output_type": "execute_result"
    }
   ],
   "source": [
    "#Lists Class =[]\n",
    "\n",
    "#Create a list\n",
    "a=[]\n",
    "print(type(a))\n",
    "a=[2, 2.3, \"string\"]\n",
    "\n",
    "#Reading a list\n",
    "print(a[1:])\n",
    "print(a[-1])\n",
    "print(len(a))\n",
    "#print(a*2)\n",
    "\n",
    "\n",
    "#Update/manipulate list\n",
    "a[2]=\"float\"\n",
    "a[0:2]=[3, 3.3, \"int\"]   #[0:2] 2 is excluded thus 0 and 1 is placed with 3,3.3 and \"int\"\n",
    "a\n",
    "b=[\"rabbit\",\"dog\"]\n",
    "c=[a,b]\n",
    "#print(c.sort())  #only for same type of elements\n",
    "c\n",
    "c.append(\"cat\")\n",
    "#c.pop()     #pops out -1 th element\n",
    "c.pop(-2)\n",
    "c.insert(0,\"add\")\n",
    "c\n",
    "#Delete a list\n",
    "#c.clear()\n"
   ]
  },
  {
   "cell_type": "code",
   "execution_count": 17,
   "metadata": {},
   "outputs": [
    {
     "name": "stdout",
     "output_type": "stream",
     "text": [
      "rose\n",
      "{1: 'rose', 2: 'lily', 3: 'delia', 4: 'mariegold'}\n",
      "{2: 'lily', 3: 'delia', 4: 'mariegold'}\n",
      "False\n",
      "False\n",
      "True\n"
     ]
    }
   ],
   "source": [
    "#Data type : Dictionary\n",
    "\n",
    "#Dictionary Class = {key:value}\n",
    "\"\"\"Consider dictionaries as lists but treating key as an index \"\"\"\n",
    "\n",
    "#Creat a dictionary\n",
    "d={1:'rose',2:'lily',3:'delia'}\n",
    "\n",
    "#Reading a dictionary by a key(think as an index)\n",
    "print(d[1])\n",
    "\n",
    "#Reading all the keys and values\n",
    "val=list(d.values())\n",
    "key=d.keys()\n",
    "\n",
    "#Adding a new entry to dictionary\n",
    "d[4] = \"mariegold\"\n",
    "print(d)\n",
    "\n",
    "#Delete entry in dictionary: delete key\n",
    "del(d[1])\n",
    "print(d)\n",
    "\n",
    "#verify if element is in dictionary\n",
    "print(\"rose\" in d)\n",
    "print(1 in key)\n",
    "print(2 in d)"
   ]
  },
  {
   "cell_type": "code",
   "execution_count": 53,
   "metadata": {},
   "outputs": [
    {
     "name": "stdout",
     "output_type": "stream",
     "text": [
      "[(1, 3), (1, 4), (2, 3), (2, 1), (2, 4), (3, 1), (3, 4)]\n",
      "[(1, 3), (1, 1), (1, 4), (2, 3), (2, 1), (2, 4), (3, 3), (3, 1), (3, 4)]\n"
     ]
    }
   ],
   "source": [
    "#List Comprehension : Easy way to initiate list\n",
    "\n",
    "squares = [x**2 for x in range(10)]\n",
    "squares\n",
    "\n",
    "list2=[(x, y) for x in [1,2,3] for y in [3,1,4] if x != y]\n",
    "print(list2)\n",
    "\n",
    "list1=[(x, y) for x in [1,2,3] for y in [3,1,4] ]\n",
    "print(list1)"
   ]
  },
  {
   "cell_type": "code",
   "execution_count": 65,
   "metadata": {},
   "outputs": [
    {
     "name": "stdout",
     "output_type": "stream",
     "text": [
      "[(0, 5), (1, 7), (2, 9), (3, 11), (4, 13), (5, 15), (6, 17), (7, 19), (8, 21), (9, 23)]\n",
      "(1, 1)\n",
      "(1, 1) (2, 1)\n"
     ]
    },
    {
     "data": {
      "text/plain": [
       "[(1, 1), (2, 1), (6, 3)]"
      ]
     },
     "execution_count": 65,
     "metadata": {},
     "output_type": "execute_result"
    }
   ],
   "source": [
    "#Tuples: The immutables   ()\n",
    "#Best use: defining coordinates\n",
    "#It is often not clear how tuples differ from lists. The most obvious way is that they are immutable. \n",
    "#Often we'll see tuples used to store related data that should all be interpreted together. \n",
    "#A good example is a Cartesian point, (x, y).\n",
    "\n",
    "#Create\n",
    "tpl=((1,1),(2,1))\n",
    "\n",
    "points = [(x, 2*x + 5) for x in range(10)]      #generate points for a curve using a list comprehension\n",
    "print(points)\n",
    "\n",
    "#Read\n",
    "w, x = tpl\n",
    "print(w)\n",
    "print(w, x)\n",
    "\n",
    "#update \n",
    "#convert to list\n",
    "t=list(tpl)\n",
    "t.append((6,3))\n",
    "t\n",
    "\n",
    "\n",
    "#Delete\n"
   ]
  },
  {
   "cell_type": "code",
   "execution_count": 28,
   "metadata": {},
   "outputs": [
    {
     "name": "stdout",
     "output_type": "stream",
     "text": [
      "{1, 3.4, 'dot', 'line', 'arrow'}\n",
      "{'white', 1, 2.3, 'black'}\n",
      "{1, 2.3, 'white', 'arrow', 'black'}\n",
      "{1, 2.3, 'white', 'arrow'}\n",
      "True\n",
      "{'arrow', 1}\n",
      "{'arrow', 1}\n",
      "{'arrow', 1, 2.3, 3.4, 'dot', 'line', 'white'}\n",
      "True\n",
      "True\n",
      "{'line', 3.4, 'dot'}\n"
     ]
    }
   ],
   "source": [
    "#Data type: Sets\n",
    "\n",
    "#Sets are a type of collection like lists and tuples\n",
    "\n",
    "# Sets are unordered. They do not record element position.\n",
    "#Sets only have unique elements.\n",
    "\n",
    "#Create a set\n",
    "set1={\"line\",\"dot\",\"arrow\",1,1,3.4,\"arrow\"}\n",
    "print(set1)\n",
    "\n",
    "#Type Casting == conveting one data type to onather\n",
    "list1=[1,1,2.3,\"black\",\"white\"]\n",
    "set2=set(list1)\n",
    "print(set2)\n",
    "\n",
    "# Set operations.\n",
    "\n",
    "# add an item to a set using the add-method.\n",
    "set2.add(\"arrow\")\n",
    "print(set2)\n",
    "\n",
    "# Remove an item to a set using the add-method\n",
    "set2.remove(\"black\")\n",
    "print(set2)\n",
    "\n",
    "# Verify if an element is in the set using the in command \n",
    "print(\"white\" in set2)\n",
    "\n",
    "\n",
    "# Mathematical set operations. \n",
    "\n",
    "#Intersection: &  ::all the items that are not in both sets disappear\n",
    "set3= set1&set2\n",
    "setx=set1.intersection(set2)\n",
    "print(setx)\n",
    "#set3 contains all the elements in both albums set one and album set two\n",
    "print(set3)\n",
    "\n",
    "#Union\n",
    "set4=set1.union(set2)\n",
    "print(set4)\n",
    "\n",
    "#Check subset\n",
    "print(set1.issubset(set4))\n",
    "\n",
    "# Check supreset\n",
    "print(set4.issuperset(set1))\n",
    "\n",
    "# The elements  only contained in set1 but not set2 using the difference method\n",
    "print(set1.difference(set2))\n"
   ]
  },
  {
   "cell_type": "code",
   "execution_count": 29,
   "metadata": {},
   "outputs": [
    {
     "name": "stdout",
     "output_type": "stream",
     "text": [
      "False\n"
     ]
    }
   ],
   "source": [
    "#Compare sum of set and list using sum method\n",
    "A = [1, 2, 2, 1]\n",
    "B = set([1, 2, 2, 1])\n",
    "print(sum(A) == sum(B))"
   ]
  },
  {
   "cell_type": "code",
   "execution_count": null,
   "metadata": {},
   "outputs": [],
   "source": []
  }
 ],
 "metadata": {
  "kernelspec": {
   "display_name": "Python 3",
   "language": "python",
   "name": "python3"
  },
  "language_info": {
   "codemirror_mode": {
    "name": "ipython",
    "version": 3
   },
   "file_extension": ".py",
   "mimetype": "text/x-python",
   "name": "python",
   "nbconvert_exporter": "python",
   "pygments_lexer": "ipython3",
   "version": "3.6.9"
  }
 },
 "nbformat": 4,
 "nbformat_minor": 2
}
